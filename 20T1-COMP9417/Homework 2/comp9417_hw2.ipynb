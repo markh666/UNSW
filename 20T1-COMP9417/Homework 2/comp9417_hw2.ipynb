{
 "cells": [
  {
   "cell_type": "markdown",
   "metadata": {},
   "source": [
    "# COMP9417 19T3  Homework 2: Applying and Implementing Machine Learning"
   ]
  },
  {
   "cell_type": "markdown",
   "metadata": {},
   "source": [
    "# Question 1"
   ]
  },
  {
   "cell_type": "markdown",
   "metadata": {},
   "source": [
    "## Question 1 – Learning curve \n",
    "\n",
    "The number of data instances required to effectively learn the target function depends on dataset characteristics and the learning algorithm. In this question, you will interpret results of learning three different datasets by two machine learning algorithms trained on varying size of data, from 5% to 90% of the dataset. After training on a fraction of the dataset, the model is tested using the rest of the dataset. For example, if 40% of data is used for training, the remaining 60% of the dataset is used for testing the trained model.\n",
    "The datasets are from different, real-world  domains, and vary in size from a few hundred to a couple of thousand instances. For a smoother learning curve, the training is done in a cross validation fashion.\n",
    "\n",
    "\n",
    "### Running the classifiers\n",
    "\n",
    "**1(a). [0.5 mark]** \n",
    "\n",
    "Run the code section in the notebook cells below. This will generate a table of results, which you should copy and paste **WITHOUT MODIFICATION** into you report as your answer for \"Question 1(a)\". \n",
    "\n",
    "The output of the code section is a table, which represents the percentage accuracy of classification for the decision tree algorithm. Each of the columns shows accuracy for a model trained on a different fraction of the dataset.\n",
    "\n",
    "### Result interpretation\n",
    "Answer these questions in your report file.  Your answers must be based on the results table you saved in \"Question 1(a)\".\n",
    "\n",
    "**1(b). [0.5 mark]** Refer to Homework2.pdf file.\n",
    "\n",
    "**1(c). [0.5 mark]** Refer to Homework2.pdf file."
   ]
  },
  {
   "cell_type": "code",
   "execution_count": 1,
   "metadata": {},
   "outputs": [
    {
     "name": "stdout",
     "output_type": "stream",
     "text": [
      "                          DecisionTreeClassifier                           \n",
      "---------------------------------------------------------------------------------------------------------\n",
      "   Dataset    |   5%   |  10%   |  15%   |  20%   |  25%   |  30%   |  35%   |  40%   |  45%   |  50%   |\n",
      "---------------------------------------------------------------------------------------------------------\n",
      "australian    | 72.61% | 74.35% | 75.36% | 77.39% | 77.83% | 79.71% | 83.77% | 81.16% | 80.72% | 83.48% |\n",
      "balance-scale | 69.92% | 75.04% | 69.12% | 74.24% | 74.40% | 75.52% | 78.08% | 75.68% | 77.92% | 76.64% |\n",
      "hypothyroid   | 94.94% | 96.31% | 97.77% | 99.18% | 99.20% | 99.42% | 99.42% | 99.52% | 99.34% | 99.20% |\n",
      "\n",
      "\n",
      "                          BernoulliNB with priors                          \n",
      "---------------------------------------------------------------------------------------------------------\n",
      "   Dataset    |   5%   |  10%   |  15%   |  20%   |  25%   |  30%   |  35%   |  40%   |  45%   |  50%   |\n",
      "---------------------------------------------------------------------------------------------------------\n",
      "australian    | 73.48% | 79.86% | 81.45% | 80.43% | 79.71% | 79.86% | 79.86% | 81.16% | 82.17% | 81.88% |\n",
      "balance-scale | 46.08% | 46.08% | 46.08% | 46.08% | 46.24% | 46.08% | 46.08% | 46.24% | 46.24% | 46.08% |\n",
      "hypothyroid   | 91.38% | 91.81% | 92.23% | 92.23% | 92.23% | 92.26% | 92.23% | 92.23% | 92.23% | 92.23% |\n",
      "\n",
      "\n"
     ]
    }
   ],
   "source": [
    "# Code for question 1\n",
    "\n",
    "import numpy as np\n",
    "from scipy.io import arff\n",
    "import pandas as pd\n",
    "from sklearn.base import TransformerMixin\n",
    "from sklearn import tree\n",
    "from sklearn import preprocessing\n",
    "from sklearn.model_selection import train_test_split, GridSearchCV, learning_curve\n",
    "from sklearn.tree import DecisionTreeClassifier\n",
    "from sklearn.metrics import accuracy_score, f1_score, precision_score, recall_score, classification_report\n",
    "from sklearn.naive_bayes import BernoulliNB, MultinomialNB\n",
    "import sys\n",
    "import matplotlib.pyplot as plt \n",
    "%matplotlib inline\n",
    "\n",
    "# fixed random seed\n",
    "np.random.seed(1)\n",
    "def warn(*args, **kwargs):\n",
    "    pass\n",
    "import warnings\n",
    "warnings.warn = warn\n",
    "\n",
    "def label_enc(labels):\n",
    "    le = preprocessing.LabelEncoder()\n",
    "    le.fit(labels)\n",
    "    return le\n",
    "\n",
    "def load_data(path):\n",
    "    dataset = arff.loadarff(path)\n",
    "    data = pd.DataFrame(dataset[0])\n",
    "    attr = np.array(data.columns)\n",
    "    data = DataFrameImputer().fit_transform(data).values\n",
    "\n",
    "    # mask categorical features\n",
    "    masks = []\n",
    "    for i in range(len(attr)-1):\n",
    "        if isinstance(attr[i][1],float):\n",
    "            masks.append(i)\n",
    "    return data, masks\n",
    "\n",
    "class DataFrameImputer(TransformerMixin):\n",
    "\n",
    "    def fit(self, X, y=None):\n",
    "\n",
    "        self.fill = pd.Series([X[c].value_counts().index[0]\n",
    "            if X[c].dtype == np.dtype('O') else X[c].mean() for c in X],\n",
    "            index=X.columns)\n",
    "\n",
    "        return self\n",
    "\n",
    "    def transform(self, X, y=None):\n",
    "        return X.fillna(self.fill)\n",
    "\n",
    "def get_method_scores(data, method):\n",
    "    X = data[:,0:data.shape[1]-1]\n",
    "    lenc = label_enc(data[:,data.shape[1]-1])\n",
    "    y = lenc.transform(data[:,data.shape[1]-1])\n",
    "    train_sizes = np.array([0.05, .1, .15, .2, .25, .3, .35, .4, .45, .5])\n",
    "    _, train_scores, test_scores = learning_curve(method, X, y, cv=5, \n",
    "                                                  train_sizes=train_sizes,\n",
    "                                                  scoring=None, shuffle=False, random_state=0, \n",
    "                                                  error_score=0)\n",
    "    return test_scores\n",
    "\n",
    "def test_method(method, title):\n",
    "    # load data\n",
    "    paths = ['australian','balance-scale','hypothyroid']\n",
    "    scores = []\n",
    "\n",
    "    for path in paths:\n",
    "        score = []\n",
    "        path += '.arff'\n",
    "        data, masks = load_data(path)\n",
    "\n",
    "        # training on data with different portions of training data\n",
    "        score_array = get_method_scores(data, method)\n",
    "        # we got a [num portions][num folds] array, need to avg them into \n",
    "        # a list of scores for each portion\n",
    "        for ar in score_array:\n",
    "            score.append(np.mean(ar))\n",
    "        scores.append(score)\n",
    "\n",
    "    # print the results\n",
    "    method_name = method.__class__.__name__+' '+title\n",
    "    header = \"{:^75}\".format(method_name) + '\\n' + '-' * 105  + '\\n' + \\\n",
    "    \"{:^13} | {:^6} | {:^6} | {:^6} | {:^6} | {:^6} | {:^6} | {:^6} | {:^6} | {:^6} | {:^6} |\" \\\n",
    "    .format(\"Dataset\", \"5%\", \"10%\", \"15%\", \"20%\", \"25%\", \"30%\", \"35%\", \"40%\", \"45%\", \"50%\") + \\\n",
    "     '\\n' + '-' * 105\n",
    "\n",
    "    # print result table\n",
    "    print(header)\n",
    "    for i in range(len(scores)):\n",
    "        print(\"{:<14}\".format(paths[i]),end=\"\")\n",
    "        for j in range(len(scores[i])):\n",
    "            print(\"| {:>6.2%} \".format(scores[i][j]),end=\"\")\n",
    "        print('|')\n",
    "    print('\\n')\n",
    "\n",
    "test_method(DecisionTreeClassifier(random_state=0),'')\n",
    "test_method(BernoulliNB(),'with priors')\n",
    "test_method(BernoulliNB(fit_prior=False),'without priors')"
   ]
  },
  {
   "cell_type": "code",
   "execution_count": 7,
   "metadata": {},
   "outputs": [
    {
     "data": {
      "image/png": "[encoded data removed]",
      "text/plain": [
       "<Figure size 432x288 with 1 Axes>"
      ]
     },
     "metadata": {
      "needs_background": "light"
     },
     "output_type": "display_data"
    }
   ],
   "source": [
    "n1 = [73.47, 79.85, 81.72, 80.43, 79.69, 79.84, 80.12, 81.14, 82.16, 81.28]\n",
    "l1 = [73.62, 79.27, 81.44, 78.98, 78.4, 79.69, 78.52, 79.83, 80.41, 80.41]\n",
    "\n",
    "n2 = [46.08, 46.08, 46.08, 46.08, 46.08, 46.08, 46.08, 46.08, 46.08, 46.08]\n",
    "l2 = [46.08, 46.08, 46.08, 46.08, 46.08, 46.08, 46.08, 46.08, 46.08, 46.08]\n",
    "\n",
    "n3 = [91.38, 91.81, 92.23, 92.23, 92.23, 92.26, 92.23, 92.23, 92.23, 92.23]\n",
    "l3 = [83.88, 79.59, 77.44, 74.79, 73.12, 65.05, 53.6, 51.3, 51.09, 50.26]\n",
    "\n",
    "plt.plot(n1,label='n1')\n",
    "plt.plot(n2,label='n2')\n",
    "plt.plot(n3,label='n3')\n",
    "plt.plot(l1,label='l1')\n",
    "plt.plot(l2,label='l2')\n",
    "plt.plot(l3,label='l3')\n",
    "plt.legend()\n",
    "plt.show()"
   ]
  },
  {
   "cell_type": "code",
   "execution_count": 8,
   "metadata": {},
   "outputs": [
    {
     "data": {
      "image/png": "[encoded data removed]",
      "text/plain": [
       "<Figure size 432x288 with 1 Axes>"
      ]
     },
     "metadata": {
      "needs_background": "light"
     },
     "output_type": "display_data"
    }
   ],
   "source": [
    "a1 = [72.61, 74.63, 75.52, 77.53, 77.97, 79.86, 83.05, 81.29, 80.14, 82.91]\n",
    "b1 = [73.47, 79.85, 81.72, 80.43, 79.69, 79.84, 80.12, 81.14, 82.16, 81.28]\n",
    "\n",
    "a2 = [70.1, 72.47, 71.2, 75.69, 73.77, 75.67, 77.74, 75.99, 78.09, 76.98]\n",
    "b2 = [46.08, 46.08, 46.08, 46.08, 46.08, 46.08, 46.08, 46.08, 46.08, 46.08]\n",
    "\n",
    "a3 = [94.94, 96.31, 97.77, 99.18, 99.21, 99.42, 99.42, 99.52, 99.34, 99.2]\n",
    "b3 = [91.38, 91.81, 92.23, 92.23, 92.23, 92.26, 92.23, 92.23, 92.23, 92.23]\n",
    "\n",
    "plt.plot(a1,label='a1')\n",
    "plt.plot(a2,label='a2')\n",
    "plt.plot(a3,label='a3')\n",
    "plt.plot(b1,label='b1')\n",
    "plt.plot(b2,label='b2')\n",
    "plt.plot(b3,label='b3')\n",
    "\n",
    "plt.legend()\n",
    "plt.show()"
   ]
  },
  {
   "cell_type": "code",
   "execution_count": 66,
   "metadata": {},
   "outputs": [
    {
     "name": "stdout",
     "output_type": "stream",
     "text": [
      "Training data accuracy: 0.856682769726248\n",
      "Testing data accuracy: 0.8270676691729323\n"
     ]
    }
   ],
   "source": [
    "# Code for Question 2\n",
    "import numpy as np\n",
    "from scipy.io import arff\n",
    "import pandas as pd\n",
    "from sklearn.preprocessing import MinMaxScaler,OneHotEncoder\n",
    "from sklearn.base import TransformerMixin\n",
    "from sklearn import tree\n",
    "from sklearn import preprocessing\n",
    "from sklearn.model_selection import train_test_split, GridSearchCV, learning_curve\n",
    "from sklearn.tree import DecisionTreeClassifier\n",
    "from sklearn.metrics import accuracy_score, f1_score, precision_score, recall_score, classification_report,roc_auc_score\n",
    "from sklearn.naive_bayes import BernoulliNB, MultinomialNB\n",
    "import sys\n",
    "import matplotlib.pyplot as plt\n",
    "        \n",
    "df = pd.read_csv('titanic.csv')      \n",
    "\n",
    "scaler = MinMaxScaler()\n",
    "df = pd.read_csv('titanic.csv')  \n",
    "columns = list(df.columns)[:-1]\n",
    "df[columns] = scaler.fit_transform(df[columns])\n",
    "\n",
    "df_train = df[:621]\n",
    "df_test = df[621:]\n",
    "\n",
    "train_data = []\n",
    "test_data = []\n",
    "\n",
    "for column in columns:\n",
    "    train_data.append(np.array(df_train[column]))\n",
    "    test_data.append(np.array(df_test[column]))\n",
    "    \n",
    "train_data = np.transpose(train_data)\n",
    "train_result = np.array(df_train['Survived'])       \n",
    "test_data = np.transpose(test_data)\n",
    "test_result = np.array(df_test['Survived'])\n",
    "\n",
    "mode = tree.DecisionTreeClassifier()\n",
    "mode.fit(train_data,train_result)\n",
    "train_predict = mode.predict(train_data)\n",
    "test_predict = mode.predict(test_data)\n",
    "\n",
    "train_accuracy = accuracy_score(train_result, train_predict)\n",
    "test_accuracy = accuracy_score(test_result, test_predict)\n",
    "print('Training data accuracy:',train_accuracy)\n",
    "print('Testing data accuracy:', test_accuracy)"
   ]
  },
  {
   "cell_type": "code",
   "execution_count": 42,
   "metadata": {},
   "outputs": [
    {
     "name": "stdout",
     "output_type": "stream",
     "text": [
      "Min Samples Leaf in Train Data: 3\n",
      "Min Samples Leaf in Test Data: 12\n"
     ]
    }
   ],
   "source": [
    "train_auc_score = []\n",
    "test_auc_score = []\n",
    "test_score_list = []\n",
    "train_score_list = []\n",
    "\n",
    "for i in range(2,21):\n",
    "    mode = tree.DecisionTreeClassifier(min_samples_leaf=i)\n",
    "    mode.fit(train_data,train_result)\n",
    "    train_predict = mode.predict(train_data)\n",
    "    test_predict = mode.predict(test_data)\n",
    "    \n",
    "    train_score_list.append(accuracy_score(train_result, train_predict))\n",
    "    test_score_list.append(accuracy_score(test_result, test_predict))\n",
    "    train_auc_score.append(roc_auc_score(train_result, train_predict))\n",
    "    test_auc_score.append(roc_auc_score(test_result,test_predict))\n",
    "\n",
    "train_min_samples_leaf = train_auc_score.index(max(train_auc_score))+2\n",
    "test_min_samples_leaf = test_auc_score.index(max(test_auc_score))+2\n",
    "print(\"Min Samples Leaf in Train Data:\",train_min_samples_leaf)\n",
    "print(\"Min Samples Leaf in Test Data:\",test_min_samples_leaf)"
   ]
  },
  {
   "cell_type": "code",
   "execution_count": 43,
   "metadata": {},
   "outputs": [
    {
     "data": {
      "image/png": "[encoded data removed]",
      "text/plain": [
       "<Figure size 432x288 with 1 Axes>"
      ]
     },
     "metadata": {
      "needs_background": "light"
     },
     "output_type": "display_data"
    }
   ],
   "source": [
    "plt.plot([i for i in range(2,21)],test_auc_score,label='test_auc_score')\n",
    "plt.xlabel(\"Number of Leaf\")\n",
    "plt.ylabel(\"AUC Score\")\n",
    "plt.title(\"Test Set\")\n",
    "plt.show()"
   ]
  },
  {
   "cell_type": "code",
   "execution_count": 44,
   "metadata": {},
   "outputs": [
    {
     "data": {
      "image/png": "[encoded data removed]",
      "text/plain": [
       "<Figure size 432x288 with 1 Axes>"
      ]
     },
     "metadata": {
      "needs_background": "light"
     },
     "output_type": "display_data"
    }
   ],
   "source": [
    "plt.plot([i for i in range(2,21)],train_auc_score,label='train_auc_score')\n",
    "plt.xlabel(\"Number of Leaf\")\n",
    "plt.ylabel(\"AUC Score\")\n",
    "plt.title(\"Training Set\")\n",
    "plt.show()"
   ]
  },
  {
   "cell_type": "code",
   "execution_count": 74,
   "metadata": {},
   "outputs": [
    {
     "name": "stdout",
     "output_type": "stream",
     "text": [
      "There are 45 people who are female passengers and in the first class.\n",
      "There are 122 people who are female passengers and in the first class and survived\n",
      "The posterior probability that a female passenger, who travels in the first class and survived is: 0.36885245901639346\n"
     ]
    }
   ],
   "source": [
    "df = pd.read_csv('titanic.csv')\n",
    "columns = list(df.columns)[:2]\n",
    "X_data = []\n",
    "\n",
    "for column in columns:\n",
    "    X_data.append(np.array(df[column]))\n",
    "X_data = np.transpose(X_data)\n",
    "Y_data = np.array(df['Survived'])\n",
    "\n",
    "match = np.where((X_data[:,0] == 1) * (X_data[:,1] == 1))[0]\n",
    "print(\"There are {} people who are female passengers and in the first class.\".format(sum(Y_data[match])))\n",
    "print(\"There are {} people who are female passengers and in the first class and survived\".format(len(match)))\n",
    "print(\"The posterior probability that a female passenger, who travels in the first class and survived is:\", sum(Y_data[match])/float(len(match)))"
   ]
  },
  {
   "cell_type": "code",
   "execution_count": null,
   "metadata": {},
   "outputs": [],
   "source": []
  }
 ],
 "metadata": {
  "kernelspec": {
   "display_name": "Python 3",
   "language": "python",
   "name": "python3"
  },
  "language_info": {
   "codemirror_mode": {
    "name": "ipython",
    "version": 3
   },
   "file_extension": ".py",
   "mimetype": "text/x-python",
   "name": "python",
   "nbconvert_exporter": "python",
   "pygments_lexer": "ipython3",
   "version": "3.8.2"
  }
 },
 "nbformat": 4,
 "nbformat_minor": 2
}
