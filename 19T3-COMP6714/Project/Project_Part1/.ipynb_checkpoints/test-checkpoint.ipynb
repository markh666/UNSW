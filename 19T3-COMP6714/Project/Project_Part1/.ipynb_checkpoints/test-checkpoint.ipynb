{
 "cells": [
  {
   "cell_type": "code",
   "execution_count": 54,
   "metadata": {},
   "outputs": [],
   "source": [
    "import spacy\n",
    "import pickle\n",
    "import math\n",
    "from collections import Counter\n",
    "from collections import defaultdict"
   ]
  },
  {
   "cell_type": "code",
   "execution_count": 55,
   "metadata": {},
   "outputs": [],
   "source": [
    "doc_id = 3\n",
    "fname = './Data/sample_documents.pickle'\n",
    "# documents = pickle.load(open(fname,\"rb\"))\n",
    "# nlp = spacy.load(r'C:\\Users\\hanyu\\Anaconda3\\Lib\\site-packages\\en_core_web_sm\\en_core_web_sm-2.0.0')\n",
    "documents = documents = {1: 'According to Los Angeles Times, The Boston Globe will be experiencing another recession in 2020. However, The Boston Globe decales it a hoax.',\n",
    "             2: 'The Washington Post declines the shares of George Washington.',\n",
    "             3: 'According to Los Angeles Times, the UNSW COMP6714 students should be able to finish project part-1 now.'}\n",
    "nlp = spacy.load('en_core_web_sm')"
   ]
  },
  {
   "cell_type": "code",
   "execution_count": 59,
   "metadata": {},
   "outputs": [],
   "source": [
    "def getSubLists(lis=[],l=0):\n",
    "    res = []\n",
    "    for m in range(1, l+1):\n",
    "        allAns = []                    #用来存储所有递归中的子列表\n",
    "        ans = [None for i in range(m)] #预先填充m个None,用来存储每次递归中的子列表    \n",
    "        subLists(lis,m,ans,allAns)\n",
    "        res.extend(allAns)\n",
    "    return res\n",
    "\n",
    "def subLists(lis=[],m=0,ans=[],allAns=[]):\n",
    "    # recursive function  codes\n",
    "    if m==0:\n",
    "        # m==0是某次递归返回的条件之一：子列表的第三个数已经选出。\n",
    "        # 意味着已到达某个方向的最大递归深度\n",
    "        allAns.append(ans.copy()) \n",
    "        #这里有意思了，如果不用copy,那么ans即使已经存储在allAns，也会被其它递归方向中的ans刷新\n",
    "        return\n",
    "    if len(lis)<m:\n",
    "        # 递归函数直接返回的条件之一：从4个数里面选5个数出来是不可能的。\n",
    "        return\n",
    "    length=len(lis)\n",
    "    for iter in range(length-m+1):  #可以作为子列表一员的数在lis中的index\n",
    "        ans[-m]=lis[iter]           #lis[iter]作为子列表倒数第m个数\n",
    "        if iter+1<length:           #可以调用递归函数的条件：保证lis[iter+1:]里面还有东东才行\n",
    "            subLists(lis[iter+1:],m-1,ans,allAns)\n",
    "        else:\n",
    "            allAns.append(ans.copy())\n",
    "            return"
   ]
  },
  {
   "cell_type": "code",
   "execution_count": 60,
   "metadata": {},
   "outputs": [],
   "source": [
    "def Query_ents(DoE, Q):\n",
    "    Query_entity = []\n",
    "    for i in DoE:\n",
    "        if i in Q:\n",
    "            Query_entity.append(i)\n",
    "    return Query_entity\n",
    "\n",
    "def Query_counter(Q_nlp):\n",
    "    q_count = {}\n",
    "    for word in Q_nlp:\n",
    "        word = word.orth_\n",
    "        if word not in q_count:\n",
    "            q_count[word] = 1\n",
    "        else:\n",
    "            q_count[word] += 1\n",
    "    return q_count\n",
    "\n",
    "def filter_options(all_ops, q_count):\n",
    "    after_filter = []\n",
    "    for op in all_ops:\n",
    "        dic_op = {}\n",
    "        flag = True\n",
    "        for item in op:\n",
    "            item = item.split()\n",
    "            for i in item:\n",
    "                if i not in dic_op:\n",
    "                    dic_op[i] = 1\n",
    "                else:\n",
    "                    dic_op[i] += 1\n",
    "        for word in dic_op:\n",
    "            if word not in q_count or q_count[word] < dic_op[word]:\n",
    "                flag = False\n",
    "                break\n",
    "        if flag:\n",
    "            after_filter.append(op)\n",
    "    return after_filter"
   ]
  },
  {
   "cell_type": "code",
   "execution_count": 61,
   "metadata": {},
   "outputs": [],
   "source": [
    "Q = 'Los The Angeles Boston Times Globe Washington Post'\n",
    "DoE = {'Los Angeles Times':0, 'The Boston Globe':1,'The Washington Post':2, 'Star Tribune':3}\n",
    "doc_id = 1\n",
    "Q_nlp = nlp(Q)\n",
    "Query_entity = Query_ents(DoE, Q)\n",
    "candidates = [i.orth_ for i in Q_nlp]\n",
    "all_ops = getSubLists(Query_entity, len(Query_entity))\n",
    "q_count = Query_counter(Q_nlp)\n",
    "e_options = filter_options(all_ops, q_count)"
   ]
  },
  {
   "cell_type": "code",
   "execution_count": 62,
   "metadata": {},
   "outputs": [],
   "source": [
    "e = []\n",
    "result = []\n",
    "for i in range(len(e_options)):\n",
    "    k = candidates.copy()\n",
    "    e = e_options[i]\n",
    "    e_tmp = []\n",
    "    for j in e:\n",
    "        e_tmp.extend(j.split())\n",
    "    for word in e_tmp:\n",
    "        k.remove(word)\n",
    "    result.append([e,k])"
   ]
  },
  {
   "cell_type": "code",
   "execution_count": 63,
   "metadata": {},
   "outputs": [],
   "source": [
    "def calculate_score(result, ents, token, doc_id):\n",
    "    score_list = []\n",
    "    max_score = 0\n",
    "    index_list = []\n",
    "    for q in range(len(result)):\n",
    "        e, k, s1, s2 = result[q][0], result[q][1], 0, 0\n",
    "        for i in e:\n",
    "            if i in ents and doc_id  in ents[i]:\n",
    "                s1 += ents[i][doc_id]\n",
    "        for j in k:\n",
    "            if j in token and doc_id in token[j]:\n",
    "                s2 += token[j][doc_id]\n",
    "        score = s1 + s2 * 0.4\n",
    "        score_list.append(score)\n",
    "        if score > max_score:\n",
    "            max_score = score\n",
    "            index_list = []\n",
    "            index_list.append(q)\n",
    "        elif score == max_score:\n",
    "            index_list.append(q)\n",
    "    return index_list, max_score, score_list"
   ]
  },
  {
   "cell_type": "code",
   "execution_count": 64,
   "metadata": {},
   "outputs": [
    {
     "ename": "IndexError",
     "evalue": "list index out of range",
     "output_type": "error",
     "traceback": [
      "\u001b[0;31m---------------------------------------------------------------------------\u001b[0m",
      "\u001b[0;31mIndexError\u001b[0m                                Traceback (most recent call last)",
      "\u001b[0;32m<ipython-input-64-2c4ea038a4f2>\u001b[0m in \u001b[0;36m<module>\u001b[0;34m\u001b[0m\n\u001b[1;32m      1\u001b[0m \u001b[0mindex_list\u001b[0m\u001b[0;34m,\u001b[0m \u001b[0mmax_score\u001b[0m\u001b[0;34m,\u001b[0m \u001b[0mscore_list\u001b[0m \u001b[0;34m=\u001b[0m \u001b[0mcalculate_score\u001b[0m\u001b[0;34m(\u001b[0m\u001b[0mresult\u001b[0m\u001b[0;34m,\u001b[0m \u001b[0ments\u001b[0m\u001b[0;34m,\u001b[0m \u001b[0mtoken\u001b[0m\u001b[0;34m,\u001b[0m \u001b[0mdoc_id\u001b[0m\u001b[0;34m)\u001b[0m\u001b[0;34m\u001b[0m\u001b[0;34m\u001b[0m\u001b[0m\n\u001b[0;32m----> 2\u001b[0;31m \u001b[0mquery\u001b[0m \u001b[0;34m=\u001b[0m \u001b[0;34m{\u001b[0m\u001b[0;34m'tokens'\u001b[0m\u001b[0;34m:\u001b[0m \u001b[0mresult\u001b[0m\u001b[0;34m[\u001b[0m\u001b[0mindex_list\u001b[0m\u001b[0;34m[\u001b[0m\u001b[0;36m0\u001b[0m\u001b[0;34m]\u001b[0m\u001b[0;34m]\u001b[0m\u001b[0;34m[\u001b[0m\u001b[0;36m1\u001b[0m\u001b[0;34m]\u001b[0m\u001b[0;34m,\u001b[0m \u001b[0;34m'entities'\u001b[0m\u001b[0;34m:\u001b[0m \u001b[0mresult\u001b[0m\u001b[0;34m[\u001b[0m\u001b[0mindex_list\u001b[0m\u001b[0;34m[\u001b[0m\u001b[0;36m0\u001b[0m\u001b[0;34m]\u001b[0m\u001b[0;34m]\u001b[0m\u001b[0;34m[\u001b[0m\u001b[0;36m0\u001b[0m\u001b[0;34m]\u001b[0m\u001b[0;34m}\u001b[0m\u001b[0;34m\u001b[0m\u001b[0;34m\u001b[0m\u001b[0m\n\u001b[0m",
      "\u001b[0;31mIndexError\u001b[0m: list index out of range"
     ]
    }
   ],
   "source": [
    "index_list, max_score, score_list = calculate_score(result, ents, token, doc_id)\n",
    "query = {'tokens': result[index_list[0]][1], 'entities': result[index_list[0]][0]}"
   ]
  },
  {
   "cell_type": "code",
   "execution_count": 67,
   "metadata": {},
   "outputs": [
    {
     "data": {
      "text/plain": [
       "[]"
      ]
     },
     "execution_count": 67,
     "metadata": {},
     "output_type": "execute_result"
    }
   ],
   "source": [
    "e_options"
   ]
  },
  {
   "cell_type": "code",
   "execution_count": 53,
   "metadata": {},
   "outputs": [],
   "source": [
    "for i in range(len(result)):\n",
    "    print({'tokens': result[i][1], 'entities': result[i][0]})"
   ]
  },
  {
   "cell_type": "code",
   "execution_count": null,
   "metadata": {},
   "outputs": [],
   "source": [
    "1. 先创建token，然后根据entities删减\n",
    "2. 最后的split result添加空的entities情况\n",
    "3. 只看Q中是否包含DoE，而不一定要一样连在一起\"check word by word, not phrase\""
   ]
  }
 ],
 "metadata": {
  "kernelspec": {
   "display_name": "Python 3",
   "language": "python",
   "name": "python3"
  },
  "language_info": {
   "codemirror_mode": {
    "name": "ipython",
    "version": 3
   },
   "file_extension": ".py",
   "mimetype": "text/x-python",
   "name": "python",
   "nbconvert_exporter": "python",
   "pygments_lexer": "ipython3",
   "version": "3.7.3"
  }
 },
 "nbformat": 4,
 "nbformat_minor": 2
}
