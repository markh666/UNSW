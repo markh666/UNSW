{
 "cells": [
  {
   "cell_type": "code",
   "execution_count": 1,
   "metadata": {},
   "outputs": [],
   "source": [
    "import pandas as pd\n",
    "import numpy as np\n",
    "from sklearn.naive_bayes import MultinomialNB, BernoulliNB\n",
    "from sklearn.tree import DecisionTreeClassifier\n",
    "from sklearn.ensemble import RandomForestClassifier\n",
    "from sklearn.svm import SVC\n",
    "from sklearn.neighbors import KNeighborsClassifier\n",
    "from sklearn.model_selection import cross_val_score\n",
    "from sklearn.metrics import accuracy_score, precision_score, recall_score, f1_score, classification_report\n",
    "from sklearn.feature_extraction.text import CountVectorizer"
   ]
  },
  {
   "cell_type": "code",
   "execution_count": 2,
   "metadata": {},
   "outputs": [],
   "source": [
    "# Get and Process Train Data\n",
    "df_train = pd.read_csv('training.csv')\n",
    "text_data_train = np.array(df_train['article_words'])\n",
    "counter = CountVectorizer()\n",
    "words_statistics_train = counter.fit_transform(text_data_train)\n",
    "topic_index = {'IRRELEVANT':0, 'ARTS CULTURE ENTERTAINMENT':1, 'BIOGRAPHIES PERSONALITIES PEOPLE':2, 'DEFENCE':3, 'DOMESTIC MARKETS':4, 'FOREX MARKETS':5, 'HEALTH':6, 'MONEY MARKETS':7, 'SCIENCE AND TECHNOLOGY':8, 'SHARE LISTINGS':9, 'SPORTS':10}\n",
    "Y_train = []\n",
    "for i in range(len(df_train)):\n",
    "    Y_train.append(topic_index[df_train.at[i, 'topic']])\n",
    "\n",
    "X_train_train = words_statistics_train[:9001]\n",
    "X_train_dev = words_statistics_train[9001:]\n",
    "Y_train_train = Y_train[:9001]\n",
    "Y_train_dev = Y_train[9001:]\n"
   ]
  },
  {
   "cell_type": "code",
   "execution_count": 3,
   "metadata": {},
   "outputs": [],
   "source": [
    "# Get and Process Test Data\n",
    "df_test = pd.read_csv('test.csv')\n",
    "text_data_test = np.array(df_test['article_words'])\n",
    "ids = np.array(df_test['article_number'])\n",
    "words_statistics_test = counter.transform(text_data_test)\n",
    "Y_test = []\n",
    "for i in range(len(df_test)):\n",
    "    Y_test.append(topic_index[df_test.at[i, 'topic']])\n",
    "\n",
    "X_test = words_statistics_test[:]\n"
   ]
  },
  {
   "cell_type": "code",
   "execution_count": 4,
   "metadata": {},
   "outputs": [
    {
     "name": "stdout",
     "output_type": "stream",
     "text": [
      "RandomForestClassifier\n"
     ]
    },
    {
     "name": "stderr",
     "output_type": "stream",
     "text": [
      "/Users/mark/opt/anaconda3/lib/python3.7/site-packages/sklearn/ensemble/forest.py:245: FutureWarning: The default value of n_estimators will change from 10 in version 0.20 to 100 in 0.22.\n",
      "  \"10 in version 0.20 to 100 in 0.22.\", FutureWarning)\n"
     ]
    },
    {
     "name": "stdout",
     "output_type": "stream",
     "text": [
      "Accuracy score of training data: 0.9786690367736918\n",
      "Accuracy score of development data: 0.7334669338677354\n",
      "Accuracy score of test data: 0.716\n"
     ]
    }
   ],
   "source": [
    "# RandomForestClassifier\n",
    "print('RandomForestClassifier')\n",
    "classifier = RandomForestClassifier()\n",
    "model = classifier.fit(X_train_train, Y_train_train)\n",
    "predicted_train = model.predict(X_train_train)\n",
    "\n",
    "print('Accuracy score of training data:',accuracy_score(Y_train_train, predicted_train))\n",
    "predicted_dev = model.predict(X_train_dev)\n",
    "\n",
    "print('Accuracy score of development data:',accuracy_score(Y_train_dev, predicted_dev))\n",
    "\n",
    "result = model.predict(X_test)\n",
    "print('Accuracy score of test data:',accuracy_score(Y_test, result))\n",
    "\n"
   ]
  },
  {
   "cell_type": "code",
   "execution_count": 5,
   "metadata": {},
   "outputs": [
    {
     "name": "stdout",
     "output_type": "stream",
     "text": [
      "BernoulliNB\n",
      "Accuracy score of training data: 0.732140873236307\n",
      "Accuracy score of development data: 0.7194388777555111\n",
      "Accuracy score of test data: 0.674\n"
     ]
    }
   ],
   "source": [
    "# BernoulliNB\n",
    "print('BernoulliNB')\n",
    "classifier = BernoulliNB()\n",
    "model = classifier.fit(X_train_train, Y_train_train)\n",
    "predicted_train = model.predict(X_train_train)\n",
    "\n",
    "print('Accuracy score of training data:',accuracy_score(Y_train_train, predicted_train))\n",
    "predicted_dev = model.predict(X_train_dev)\n",
    "\n",
    "print('Accuracy score of development data:',accuracy_score(Y_train_dev, predicted_dev))\n",
    "\n",
    "result = model.predict(X_test)\n",
    "print('Accuracy score of test data:',accuracy_score(Y_test, result))\n",
    "\n"
   ]
  },
  {
   "cell_type": "code",
   "execution_count": 6,
   "metadata": {},
   "outputs": [
    {
     "name": "stdout",
     "output_type": "stream",
     "text": [
      "MultinomialNB\n",
      "Accuracy score of training data: 0.8287968003555161\n",
      "Accuracy score of development data: 0.7314629258517034\n",
      "Accuracy score of test data: 0.722\n"
     ]
    }
   ],
   "source": [
    "# MultinomialNB\n",
    "print('MultinomialNB')\n",
    "classifier = MultinomialNB()\n",
    "model = classifier.fit(X_train_train, Y_train_train)\n",
    "predicted_train = model.predict(X_train_train)\n",
    "\n",
    "print('Accuracy score of training data:',accuracy_score(Y_train_train, predicted_train))\n",
    "predicted_dev = model.predict(X_train_dev)\n",
    "\n",
    "print('Accuracy score of development data:',accuracy_score(Y_train_dev, predicted_dev))\n",
    "\n",
    "result = model.predict(X_test)\n",
    "print('Accuracy score of test data:',accuracy_score(Y_test, result))\n",
    "\n"
   ]
  },
  {
   "cell_type": "code",
   "execution_count": 7,
   "metadata": {},
   "outputs": [
    {
     "name": "stdout",
     "output_type": "stream",
     "text": [
      "DecisionTreeClassifier\n",
      "Accuracy score of training data: 0.989667814687257\n",
      "Accuracy score of development data: 0.7034068136272545\n",
      "Accuracy score of test data: 0.676\n"
     ]
    }
   ],
   "source": [
    "# DecisionTreeClassifier\n",
    "print('DecisionTreeClassifier')\n",
    "classifier = DecisionTreeClassifier()\n",
    "model = classifier.fit(X_train_train, Y_train_train)\n",
    "predicted_train = model.predict(X_train_train)\n",
    "\n",
    "print('Accuracy score of training data:',accuracy_score(Y_train_train, predicted_train))\n",
    "predicted_dev = model.predict(X_train_dev)\n",
    "\n",
    "print('Accuracy score of development data:',accuracy_score(Y_train_dev, predicted_dev))\n",
    "\n",
    "result = model.predict(X_test)\n",
    "print('Accuracy score of test data:',accuracy_score(Y_test, result))\n",
    "\n"
   ]
  },
  {
   "cell_type": "code",
   "execution_count": 8,
   "metadata": {},
   "outputs": [
    {
     "name": "stdout",
     "output_type": "stream",
     "text": [
      "SVM\n",
      "Accuracy score of training data: 0.5684923897344739\n",
      "Accuracy score of development data: 0.5871743486973948\n",
      "Accuracy score of test data: 0.604\n"
     ]
    }
   ],
   "source": [
    "# SVM\n",
    "print('SVM')\n",
    "classifier = SVC(gamma='auto')\n",
    "model = classifier.fit(X_train_train, Y_train_train)\n",
    "predicted_train = model.predict(X_train_train)\n",
    "\n",
    "print('Accuracy score of training data:',accuracy_score(Y_train_train, predicted_train))\n",
    "predicted_dev = model.predict(X_train_dev)\n",
    "\n",
    "print('Accuracy score of development data:',accuracy_score(Y_train_dev, predicted_dev))\n",
    "\n",
    "result = model.predict(X_test)\n",
    "print('Accuracy score of test data:',accuracy_score(Y_test, result))\n",
    "\n",
    "\n"
   ]
  },
  {
   "cell_type": "code",
   "execution_count": 9,
   "metadata": {},
   "outputs": [
    {
     "name": "stdout",
     "output_type": "stream",
     "text": [
      "KNeighborsClassifier\n",
      "Accuracy score of training data: 0.7329185646039329\n",
      "Accuracy score of development data: 0.6753507014028056\n",
      "Accuracy score of test data: 0.65\n"
     ]
    }
   ],
   "source": [
    "# KNeighborsClassifier\n",
    "print('KNeighborsClassifier')\n",
    "classifier = KNeighborsClassifier(n_neighbors=8)\n",
    "classifier.fit(X_train_train, Y_train_train)\n",
    "predicted_train = classifier.predict(X_train_train)\n",
    "\n",
    "print('Accuracy score of training data:',accuracy_score(Y_train_train, predicted_train))\n",
    "predicted_dev = classifier.predict(X_train_dev)\n",
    "\n",
    "print('Accuracy score of development data:',accuracy_score(Y_train_dev, predicted_dev))\n",
    "\n",
    "result = classifier.predict(X_test)\n",
    "print('Accuracy score of test data:',accuracy_score(Y_test, result))\n",
    "\n"
   ]
  },
  {
   "cell_type": "code",
   "execution_count": 10,
   "metadata": {},
   "outputs": [
    {
     "name": "stdout",
     "output_type": "stream",
     "text": [
      "MultinomialNB Predict\n",
      "[[9996. 9994. 9993. 9991. 9983. 9976. 9973. 9971. 9970. 9960.]\n",
      " [9604. 9830. 9789. 9952.    0.    0.    0.    0.    0.    0.]\n",
      " [9758. 9940. 9878. 9988. 9933. 9854. 9526. 9896. 9703. 9575.]\n",
      " [9987. 9783. 9773. 9770. 9616. 9607. 9576. 9559. 9579. 9842.]\n",
      " [   0.    0.    0.    0.    0.    0.    0.    0.    0.    0.]\n",
      " [9693. 9584. 9572. 9727. 9823. 9625. 9704. 9743. 9711. 9599.]\n",
      " [9982. 9929. 9873. 9807. 9661. 9621. 9947. 9617. 9735. 9937.]\n",
      " [9995. 9985. 9967. 9939. 9901. 9863. 9835. 9816. 9769. 9765.]\n",
      " [   0.    0.    0.    0.    0.    0.    0.    0.    0.    0.]\n",
      " [9601.    0.    0.    0.    0.    0.    0.    0.    0.    0.]\n",
      " [9997. 9992. 9979. 9964. 9942. 9931. 9922. 9920. 9919. 9886.]]\n"
     ]
    }
   ],
   "source": [
    "# Using MultinomialNB\n",
    "print('MultinomialNB Predict')\n",
    "classifier = MultinomialNB()\n",
    "model = classifier.fit(X_train_train, Y_train_train)\n",
    "\n",
    "result_class = model.predict(X_test)\n",
    "result_proba = model.predict_proba(X_test)\n",
    "\n",
    "class_lists = []\n",
    "\n",
    "# put every instance into its group\n",
    "for i in range(11):\n",
    "    class_lists.append([])\n",
    "    for j in range(500):\n",
    "        if result_class[j] == i:\n",
    "            class_lists[i].append((result_proba[j][i], ids[j]))\n",
    "\n",
    "# sort every class list\n",
    "for i in range(11):\n",
    "    class_lists[i].sort(reverse=True)\n",
    "\n",
    "# get suggest list\n",
    "suggested = np.zeros((11, 10))\n",
    "\n",
    "for i in range(11):\n",
    "    length = min(len(class_lists[i]), 10)\n",
    "    for j in range(length):\n",
    "        suggested[i][j] = class_lists[i][j][1]\n",
    "    \n",
    "print(suggested)"
   ]
  },
  {
   "cell_type": "code",
   "execution_count": 11,
   "metadata": {},
   "outputs": [
    {
     "name": "stdout",
     "output_type": "stream",
     "text": [
      "ARTS CULTURE ENTERTAINMENT: \t\t [9604. 9830. 9789. 9952.    0.    0.    0.    0.    0.    0.]\n",
      "BIOGRAPHIES PERSONALITIES PEOPLE: \t [9758. 9940. 9878. 9988. 9933. 9854. 9526. 9896. 9703. 9575.]\n",
      "DEFENCE: \t\t\t\t [9987. 9783. 9773. 9770. 9616. 9607. 9576. 9559. 9579. 9842.]\n",
      "DOMESTIC MARKETS: \t\t\t [0. 0. 0. 0. 0. 0. 0. 0. 0. 0.]\n",
      "FOREX MARKETS: \t\t\t\t [9693. 9584. 9572. 9727. 9823. 9625. 9704. 9743. 9711. 9599.]\n",
      "HEALTH: \t\t\t\t [9982. 9929. 9873. 9807. 9661. 9621. 9947. 9617. 9735. 9937.]\n",
      "MONEY MARKETS: \t\t\t\t [9995. 9985. 9967. 9939. 9901. 9863. 9835. 9816. 9769. 9765.]\n",
      "SCIENCE AND TECHNOLOGY: \t\t [0. 0. 0. 0. 0. 0. 0. 0. 0. 0.]\n",
      "SHARE LISTINGS: \t\t\t [9601.    0.    0.    0.    0.    0.    0.    0.    0.    0.]\n",
      "SPORTS: \t\t\t\t [9997. 9992. 9979. 9964. 9942. 9931. 9922. 9920. 9919. 9886.]\n"
     ]
    }
   ],
   "source": [
    "# Print suggestions\n",
    "print(\"ARTS CULTURE ENTERTAINMENT: \\t\\t\", suggested[1])\n",
    "print(\"BIOGRAPHIES PERSONALITIES PEOPLE: \\t\", suggested[2])\n",
    "print(\"DEFENCE: \\t\\t\\t\\t\", suggested[3])\n",
    "print(\"DOMESTIC MARKETS: \\t\\t\\t\", suggested[4])\n",
    "print(\"FOREX MARKETS: \\t\\t\\t\\t\", suggested[5])\n",
    "print(\"HEALTH: \\t\\t\\t\\t\", suggested[6])\n",
    "print(\"MONEY MARKETS: \\t\\t\\t\\t\", suggested[7])\n",
    "print(\"SCIENCE AND TECHNOLOGY: \\t\\t\", suggested[8])\n",
    "print(\"SHARE LISTINGS: \\t\\t\\t\", suggested[9])\n",
    "print(\"SPORTS: \\t\\t\\t\\t\", suggested[10])\n"
   ]
  },
  {
   "cell_type": "code",
   "execution_count": null,
   "metadata": {},
   "outputs": [],
   "source": []
  }
 ],
 "metadata": {
  "kernelspec": {
   "display_name": "Python 3",
   "language": "python",
   "name": "python3"
  },
  "language_info": {
   "codemirror_mode": {
    "name": "ipython",
    "version": 3
   },
   "file_extension": ".py",
   "mimetype": "text/x-python",
   "name": "python",
   "nbconvert_exporter": "python",
   "pygments_lexer": "ipython3",
   "version": "3.8.2"
  },
  "toc": {
   "base_numbering": 1,
   "nav_menu": {},
   "number_sections": true,
   "sideBar": true,
   "skip_h1_title": false,
   "title_cell": "Table of Contents",
   "title_sidebar": "Contents",
   "toc_cell": false,
   "toc_position": {},
   "toc_section_display": true,
   "toc_window_display": false
  }
 },
 "nbformat": 4,
 "nbformat_minor": 2
}
