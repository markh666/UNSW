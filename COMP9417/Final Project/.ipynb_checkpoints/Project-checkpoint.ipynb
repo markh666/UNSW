{
 "cells": [
  {
   "cell_type": "code",
   "execution_count": null,
   "metadata": {},
   "outputs": [],
   "source": [
    "import pandas as pd\n",
    "import numpy as np\n",
    "from sklearn.naive_bayes import MultinomialNB, BernoulliNB\n",
    "from sklearn.feature_extraction.text import CountVectorizer\n",
    "from sklearn.metrics import accuracy_score, precision_score, recall_score, f1_score, classification_report\n",
    "from sklearn import tree\n",
    "from sklearn.ensemble import RandomForestClassifier\n",
    "from sklearn import linear_model\n",
    "from sklearn.svm import SVC\n",
    "from sklearn.model_selection import cross_val_score\n",
    "from xgboost import XGBClassifier\n",
    "from xgboost import plot_importance\n",
    "from sklearn.neural_network import MLPClassifier\n",
    "\n",
    "df_train = pd.read_csv(\"training.csv\")\n",
    "text_data = np.array(df_train['article_words'])\n",
    "count = CountVectorizer()\n",
    "bag_of_words = count.fit_transform(text_data)\n",
    "X = bag_of_words\n",
    "topic = {'IRRELEVANT':0, 'ARTS CULTURE ENTERTAINMENT':1, 'BIOGRAPHIES PERSONALITIES PEOPLE':2, 'DEFENCE':3, 'DOMESTIC MARKETS':4, 'FOREX MARKETS':5, 'HEALTH':6, 'MONEY MARKETS':7, 'SCIENCE AND TECHNOLOGY':8, 'SHARE LISTINGS':9, 'SPORTS':10}\n",
    "Y = []\n",
    "for i in range(len(df_train)):\n",
    "    Y.append(topic[df_train.at[i, 'topic']])\n",
    "    \n",
    "X_train = X[:9001]\n",
    "X_dev = X[9001:]\n",
    "Y_train = Y[:9001]\n",
    "Y_dev = Y[9001:]"
   ]
  },
  {
   "cell_type": "code",
   "execution_count": 19,
   "metadata": {},
   "outputs": [
    {
     "name": "stdout",
     "output_type": "stream",
     "text": [
      "Training data accuracy score is: 0.9886679257860238\n",
      "Development data accuracy score is: 0.9859719438877755\n",
      "Test data accuracy score is: 0.764\n"
     ]
    }
   ],
   "source": [
    "print('MLPClassifier')\n",
    "mlp = MLPClassifier()\n",
    "model = mlp.fit(X, Y) \n",
    "predicted_train = model.predict(X_train)\n",
    "print('Training data accuracy score is:',accuracy_score(Y_train, predicted_train))\n",
    "predicted_dev = model.predict(X_dev)\n",
    "print('Development data accuracy score is:',accuracy_score(Y_dev, predicted_dev))\n",
    "df_test = pd.read_csv('test.csv') \n",
    "test_data = np.array(df_test['article_words'])\n",
    "topic = {'IRRELEVANT':0, 'ARTS CULTURE ENTERTAINMENT':1, 'BIOGRAPHIES PERSONALITIES PEOPLE':2, 'DEFENCE':3, 'DOMESTIC MARKETS':4, 'FOREX MARKETS':5, 'HEALTH':6, 'MONEY MARKETS':7, 'SCIENCE AND TECHNOLOGY':8, 'SHARE LISTINGS':9, 'SPORTS':10}\n",
    "Y_test = []\n",
    "for i in range(len(df_test)):\n",
    "    Y_test.append(topic[df_test.at[i, 'topic']])\n",
    "result = []\n",
    "prob = []\n",
    "for i in range(len(df_test)):\n",
    "    tmp = count.transform([test_data[i]])\n",
    "    prob.append(model.predict_proba(tmp)[0])\n",
    "    result.append(int(model.predict(tmp)[0]))\n",
    "print('Test data accuracy score is:',accuracy_score(Y_test, result))"
   ]
  },
  {
   "cell_type": "code",
   "execution_count": 20,
   "metadata": {},
   "outputs": [],
   "source": [
    "#统计每个article对应的所有probability\n",
    "probability = np.array(prob).T\n",
    "probability.shape\n",
    "\n",
    "mi = dict(zip(topic.values(), topic.keys()))\n",
    "for i in range(len(result)):\n",
    "    result[i] = mi[result[i]]\n",
    "    \n",
    "data = {'Article':pd.Series(df_test['article_number']),\n",
    "       'ARTS CULTURE ENTERTAINMENT':pd.Series(probability[1]),\n",
    "        'BIOGRAPHIES PERSONALITIES PEOPLE':pd.Series(probability[2]),\n",
    "        'DEFENCE':pd.Series(probability[3]),\n",
    "       'DOMESTIC MARKETS':pd.Series(probability[4]),\n",
    "       'FOREX MARKETS':pd.Series(probability[5]),\n",
    "       'HEALTH':pd.Series(probability[6]),\n",
    "       'MONEY MARKETS':pd.Series(probability[7]),\n",
    "       'SCIENCE AND TECHNOLOGY':pd.Series(probability[8]),\n",
    "       'SHARE LISTINGS':pd.Series(probability[9]),\n",
    "        'SPORTS':pd.Series(probability[10]),\n",
    "       }\n",
    "df = pd.DataFrame(data)\n",
    "\n",
    "for i in range(1,len(df.columns)):\n",
    "    tmp = df.sort_values(by=[df.columns[i]]).head(10)\n",
    "    print(df.columns[i], list(tmp['Article']))"
   ]
  },
  {
   "cell_type": "code",
   "execution_count": 31,
   "metadata": {},
   "outputs": [],
   "source": [
    "# 统计predict_result对应的probability\n",
    "score = []\n",
    "for i in prob:\n",
    "    score.append(max(i))\n",
    "\n",
    "r = {'Article':pd.Series(df_test['article_number']),\n",
    "     'Result':pd.Series(np.array(result)),\n",
    "     'Probability': pd.Series(np.array(score))       \n",
    "       }\n",
    "predict_prob = pd.DataFrame(r)\n",
    "\n",
    "tp = list(topic.keys())\n",
    "for i in range(1, len(tp)):\n",
    "    tmp = predict_prob[predict_prob['Result'] == tp[i]].sort_values(by=['Probability'],ascending=False).head(10)\n",
    "    print(tp[i], list(tmp['Article']))"
   ]
  },
  {
   "cell_type": "code",
   "execution_count": 50,
   "metadata": {},
   "outputs": [
    {
     "name": "stdout",
     "output_type": "stream",
     "text": [
      "SGDClassifier\n"
     ]
    },
    {
     "name": "stderr",
     "output_type": "stream",
     "text": [
      "/Users/mark/opt/anaconda3/lib/python3.7/site-packages/sklearn/calibration.py:453: RuntimeWarning: overflow encountered in exp\n",
      "  E = np.exp(AB[0] * F + AB[1])\n",
      "/Users/mark/opt/anaconda3/lib/python3.7/site-packages/sklearn/calibration.py:455: RuntimeWarning: invalid value encountered in multiply\n",
      "  TEP_minus_T1P = P * (T * E - T1)\n",
      "/Users/mark/opt/anaconda3/lib/python3.7/site-packages/sklearn/calibration.py:453: RuntimeWarning: overflow encountered in exp\n",
      "  E = np.exp(AB[0] * F + AB[1])\n",
      "/Users/mark/opt/anaconda3/lib/python3.7/site-packages/sklearn/calibration.py:455: RuntimeWarning: invalid value encountered in multiply\n",
      "  TEP_minus_T1P = P * (T * E - T1)\n",
      "/Users/mark/opt/anaconda3/lib/python3.7/site-packages/sklearn/calibration.py:453: RuntimeWarning: overflow encountered in exp\n",
      "  E = np.exp(AB[0] * F + AB[1])\n",
      "/Users/mark/opt/anaconda3/lib/python3.7/site-packages/sklearn/calibration.py:455: RuntimeWarning: invalid value encountered in multiply\n",
      "  TEP_minus_T1P = P * (T * E - T1)\n",
      "/Users/mark/opt/anaconda3/lib/python3.7/site-packages/sklearn/calibration.py:453: RuntimeWarning: overflow encountered in exp\n",
      "  E = np.exp(AB[0] * F + AB[1])\n",
      "/Users/mark/opt/anaconda3/lib/python3.7/site-packages/sklearn/calibration.py:455: RuntimeWarning: invalid value encountered in multiply\n",
      "  TEP_minus_T1P = P * (T * E - T1)\n"
     ]
    },
    {
     "name": "stdout",
     "output_type": "stream",
     "text": [
      "Training data accuracy score is: 0.9397844683924008\n",
      "Development data accuracy score is: 0.7234468937875751\n",
      "Test data accuracy score is: 0.726\n"
     ]
    }
   ],
   "source": [
    "print('SGDClassifier')\n",
    "from sklearn.calibration import CalibratedClassifierCV\n",
    "clf = linear_model.SGDClassifier(max_iter=1000, tol=1e-3, loss='hinge',class_weight='balanced')\n",
    "clf = clf.fit(X_train, Y_train)\n",
    "calibrator = CalibratedClassifierCV(clf, cv='prefit')\n",
    "model=calibrator.fit(X_train, Y_train)\n",
    "predicted_train = model.predict(X_train)\n",
    "print('Training data accuracy score is:',accuracy_score(Y_train, predicted_train))\n",
    "predicted_dev = model.predict(X_dev)\n",
    "print('Development data accuracy score is:',accuracy_score(Y_dev, predicted_dev))\n",
    "df_test = pd.read_csv('test.csv')\n",
    "test_data = np.array(df_test['article_words'])\n",
    "topic = {'IRRELEVANT':0, 'ARTS CULTURE ENTERTAINMENT':1, 'BIOGRAPHIES PERSONALITIES PEOPLE':2, 'DEFENCE':3, 'DOMESTIC MARKETS':4, 'FOREX MARKETS':5, 'HEALTH':6, 'MONEY MARKETS':7, 'SCIENCE AND TECHNOLOGY':8, 'SHARE LISTINGS':9, 'SPORTS':10}\n",
    "Y_test = []\n",
    "for i in range(len(df_test)):\n",
    "    Y_test.append(topic[df_test.at[i, 'topic']])\n",
    "result = []\n",
    "prob = []\n",
    "for i in range(len(df_test)):\n",
    "    tmp = count.transform([test_data[i]])\n",
    "    prob.append(model.predict_proba(tmp)[0])\n",
    "    result.append(int(model.predict(tmp)[0]))\n",
    "print('Test data accuracy score is:',accuracy_score(Y_test, result))"
   ]
  },
  {
   "cell_type": "code",
   "execution_count": 43,
   "metadata": {},
   "outputs": [
    {
     "name": "stdout",
     "output_type": "stream",
     "text": [
      "SVM\n",
      "Training data accuracy score is: 0.896900344406177\n",
      "Development data accuracy score is: 0.7535070140280561\n",
      "Test data accuracy score is: 0.738\n"
     ]
    }
   ],
   "source": [
    "print('SVM')\n",
    "clf = SVC()\n",
    "model = clf.fit(X_train, Y_train)\n",
    "predicted_train = model.predict(X_train)\n",
    "print('Training data accuracy score is:',accuracy_score(Y_train, predicted_train))\n",
    "predicted_dev = model.predict(X_dev)\n",
    "print('Development data accuracy score is:',accuracy_score(Y_dev, predicted_dev))\n",
    "df_test = pd.read_csv('test.csv')\n",
    "test_data = np.array(df_test['article_words'])\n",
    "topic = {'IRRELEVANT':0, 'ARTS CULTURE ENTERTAINMENT':1, 'BIOGRAPHIES PERSONALITIES PEOPLE':2, 'DEFENCE':3, 'DOMESTIC MARKETS':4, 'FOREX MARKETS':5, 'HEALTH':6, 'MONEY MARKETS':7, 'SCIENCE AND TECHNOLOGY':8, 'SHARE LISTINGS':9, 'SPORTS':10}\n",
    "Y_test = []\n",
    "for i in range(len(df_test)):\n",
    "    Y_test.append(topic[df_test.at[i, 'topic']])\n",
    "result = []\n",
    "for i in range(len(df_test)):\n",
    "    tmp = count.transform([test_data[i]])\n",
    "    result.append(int(model.predict(tmp)[0]))\n",
    "print('Test data accuracy score is:',accuracy_score(Y_test, result))"
   ]
  },
  {
   "cell_type": "code",
   "execution_count": 47,
   "metadata": {},
   "outputs": [
    {
     "name": "stdout",
     "output_type": "stream",
     "text": [
      "Training data accuracy score is: 0.847683590712143\n",
      "Development data accuracy score is: 0.7675350701402806\n",
      "Test data accuracy score is: 0.736\n"
     ]
    }
   ],
   "source": [
    "model = XGBClassifier()\n",
    "model.fit(X_train, Y_train)\n",
    "predicted_train = model.predict(X_train)\n",
    "print('Training data accuracy score is:',accuracy_score(Y_train, predicted_train))\n",
    "predicted_dev = model.predict(X_dev)\n",
    "print('Development data accuracy score is:',accuracy_score(Y_dev, predicted_dev))\n",
    "df_test = pd.read_csv('test.csv')\n",
    "test_data = np.array(df_test['article_words'])\n",
    "topic = {'IRRELEVANT':0, 'ARTS CULTURE ENTERTAINMENT':1, 'BIOGRAPHIES PERSONALITIES PEOPLE':2, 'DEFENCE':3, 'DOMESTIC MARKETS':4, 'FOREX MARKETS':5, 'HEALTH':6, 'MONEY MARKETS':7, 'SCIENCE AND TECHNOLOGY':8, 'SHARE LISTINGS':9, 'SPORTS':10}\n",
    "Y_test = []\n",
    "for i in range(len(df_test)):\n",
    "    Y_test.append(topic[df_test.at[i, 'topic']])\n",
    "result = []\n",
    "for i in range(len(df_test)):\n",
    "    tmp = count.transform([test_data[i]])\n",
    "    result.append(int(model.predict(tmp)[0]))\n",
    "print('Test data accuracy score is:',accuracy_score(Y_test, result))"
   ]
  },
  {
   "cell_type": "code",
   "execution_count": 12,
   "metadata": {},
   "outputs": [
    {
     "name": "stdout",
     "output_type": "stream",
     "text": [
      "RandomForestClassifier\n"
     ]
    },
    {
     "name": "stderr",
     "output_type": "stream",
     "text": [
      "/Users/mark/opt/anaconda3/lib/python3.7/site-packages/sklearn/ensemble/forest.py:245: FutureWarning: The default value of n_estimators will change from 10 in version 0.20 to 100 in 0.22.\n",
      "  \"10 in version 0.20 to 100 in 0.22.\", FutureWarning)\n"
     ]
    },
    {
     "name": "stdout",
     "output_type": "stream",
     "text": [
      "Training data accuracy score is: 0.9766692589712255\n",
      "Development data accuracy score is: 0.9739478957915831\n",
      "Test data accuracy score is: 0.718\n"
     ]
    }
   ],
   "source": [
    "print('RandomForestClassifier')\n",
    "clf = RandomForestClassifier()\n",
    "model = clf.fit(X, Y)\n",
    "predicted_train = model.predict(X_train)\n",
    "print('Training data accuracy score is:',accuracy_score(Y_train, predicted_train))\n",
    "predicted_dev = model.predict(X_dev)\n",
    "print('Development data accuracy score is:',accuracy_score(Y_dev, predicted_dev))\n",
    "\n",
    "df_test = pd.read_csv('test.csv') \n",
    "test_data = np.array(df_test['article_words'])\n",
    "topic = {'IRRELEVANT':0, 'ARTS CULTURE ENTERTAINMENT':1, 'BIOGRAPHIES PERSONALITIES PEOPLE':2, 'DEFENCE':3, 'DOMESTIC MARKETS':4, 'FOREX MARKETS':5, 'HEALTH':6, 'MONEY MARKETS':7, 'SCIENCE AND TECHNOLOGY':8, 'SHARE LISTINGS':9, 'SPORTS':10}\n",
    "Y_test = []\n",
    "for i in range(len(df_test)):\n",
    "    Y_test.append(topic[df_test.at[i, 'topic']])\n",
    "result = []\n",
    "prob = []\n",
    "for i in range(len(df_test)):\n",
    "    tmp = count.transform([test_data[i]])\n",
    "    prob.append(model.predict_proba(tmp)[0])\n",
    "    result.append(int(model.predict(tmp)[0]))\n",
    "print('Test data accuracy score is:',accuracy_score(Y_test, result))\n"
   ]
  },
  {
   "cell_type": "code",
   "execution_count": 55,
   "metadata": {},
   "outputs": [
    {
     "name": "stdout",
     "output_type": "stream",
     "text": [
      "MultinomialNB\n",
      "Training data accuracy score is: 0.8287968003555161\n",
      "Development data accuracy score is: 0.7314629258517034\n",
      "Test data accuracy score is: 0.722\n"
     ]
    }
   ],
   "source": [
    "print('MultinomialNB')\n",
    "clf = MultinomialNB()\n",
    "model = clf.fit(X_train, Y_train)\n",
    "predicted_train = model.predict(X_train)\n",
    "print('Training data accuracy score is:',accuracy_score(Y_train, predicted_train))\n",
    "predicted_dev = model.predict(X_dev)\n",
    "print('Development data accuracy score is:',accuracy_score(Y_dev, predicted_dev))\n",
    "df_test = pd.read_csv('test.csv')\n",
    "test_data = np.array(df_test['article_words'])\n",
    "topic = {'IRRELEVANT':0, 'ARTS CULTURE ENTERTAINMENT':1, 'BIOGRAPHIES PERSONALITIES PEOPLE':2, 'DEFENCE':3, 'DOMESTIC MARKETS':4, 'FOREX MARKETS':5, 'HEALTH':6, 'MONEY MARKETS':7, 'SCIENCE AND TECHNOLOGY':8, 'SHARE LISTINGS':9, 'SPORTS':10}\n",
    "Y_test = []\n",
    "for i in range(len(df_test)):\n",
    "    Y_test.append(topic[df_test.at[i, 'topic']])\n",
    "result = []\n",
    "for i in range(len(df_test)):\n",
    "    tmp = count.transform([test_data[i]])\n",
    "    result.append(int(model.predict(tmp)[0]))\n",
    "print('Test data accuracy score is:',accuracy_score(Y_test, result))"
   ]
  },
  {
   "cell_type": "code",
   "execution_count": 54,
   "metadata": {},
   "outputs": [
    {
     "name": "stdout",
     "output_type": "stream",
     "text": [
      "BernoulliNB\n",
      "Training data accuracy score is: 0.732140873236307\n",
      "Development data accuracy score is: 0.7194388777555111\n",
      "Test data accuracy score is: 0.674\n"
     ]
    }
   ],
   "source": [
    "print('BernoulliNB')\n",
    "clf = BernoulliNB()\n",
    "model = clf.fit(X_train, Y_train)\n",
    "predicted_train = model.predict(X_train)\n",
    "print('Training data accuracy score is:',accuracy_score(Y_train, predicted_train))\n",
    "predicted_dev = model.predict(X_dev)\n",
    "print('Development data accuracy score is:',accuracy_score(Y_dev, predicted_dev))\n",
    "df_test = pd.read_csv('test.csv')\n",
    "test_data = np.array(df_test['article_words'])\n",
    "topic = {'IRRELEVANT':0, 'ARTS CULTURE ENTERTAINMENT':1, 'BIOGRAPHIES PERSONALITIES PEOPLE':2, 'DEFENCE':3, 'DOMESTIC MARKETS':4, 'FOREX MARKETS':5, 'HEALTH':6, 'MONEY MARKETS':7, 'SCIENCE AND TECHNOLOGY':8, 'SHARE LISTINGS':9, 'SPORTS':10}\n",
    "Y_test = []\n",
    "for i in range(len(df_test)):\n",
    "    Y_test.append(topic[df_test.at[i, 'topic']])\n",
    "result = []\n",
    "for i in range(len(df_test)):\n",
    "    tmp = count.transform([test_data[i]])\n",
    "    result.append(int(model.predict(tmp)[0]))\n",
    "print('Test data accuracy score is:',accuracy_score(Y_test, result))"
   ]
  },
  {
   "cell_type": "code",
   "execution_count": 56,
   "metadata": {},
   "outputs": [
    {
     "name": "stdout",
     "output_type": "stream",
     "text": [
      "DecisionTreeClassifier\n",
      "Training data accuracy score is: 0.989667814687257\n",
      "Development data accuracy score is: 0.7114228456913828\n",
      "Test data accuracy score is: 0.666\n"
     ]
    }
   ],
   "source": [
    "print('DecisionTreeClassifier')\n",
    "clf = tree.DecisionTreeClassifier()\n",
    "model = clf.fit(X_train, Y_train)\n",
    "predicted_train = model.predict(X_train)\n",
    "print('Training data accuracy score is:',accuracy_score(Y_train, predicted_train))\n",
    "predicted_dev = model.predict(X_dev)\n",
    "print('Development data accuracy score is:',accuracy_score(Y_dev, predicted_dev))\n",
    "df_test = pd.read_csv('test.csv')\n",
    "test_data = np.array(df_test['article_words'])\n",
    "topic = {'IRRELEVANT':0, 'ARTS CULTURE ENTERTAINMENT':1, 'BIOGRAPHIES PERSONALITIES PEOPLE':2, 'DEFENCE':3, 'DOMESTIC MARKETS':4, 'FOREX MARKETS':5, 'HEALTH':6, 'MONEY MARKETS':7, 'SCIENCE AND TECHNOLOGY':8, 'SHARE LISTINGS':9, 'SPORTS':10}\n",
    "Y_test = []\n",
    "for i in range(len(df_test)):\n",
    "    Y_test.append(topic[df_test.at[i, 'topic']])\n",
    "result = []\n",
    "for i in range(len(df_test)):\n",
    "    tmp = count.transform([test_data[i]])\n",
    "    result.append(int(model.predict(tmp)[0]))\n",
    "print('Test data accuracy score is:',accuracy_score(Y_test, result))"
   ]
  },
  {
   "cell_type": "code",
   "execution_count": null,
   "metadata": {},
   "outputs": [],
   "source": []
  }
 ],
 "metadata": {
  "kernelspec": {
   "display_name": "Python 3",
   "language": "python",
   "name": "python3"
  },
  "language_info": {
   "codemirror_mode": {
    "name": "ipython",
    "version": 3
   },
   "file_extension": ".py",
   "mimetype": "text/x-python",
   "name": "python",
   "nbconvert_exporter": "python",
   "pygments_lexer": "ipython3",
   "version": "3.8.2"
  }
 },
 "nbformat": 4,
 "nbformat_minor": 4
}
