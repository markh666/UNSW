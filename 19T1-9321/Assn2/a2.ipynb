{
 "cells": [
  {
   "cell_type": "code",
   "execution_count": 1,
   "metadata": {},
   "outputs": [],
   "source": [
    "import sqlite3\n",
    "from sqlite3 import Error\n",
    "import requests\n",
    "import time\n",
    "import random"
   ]
  },
  {
   "cell_type": "code",
   "execution_count": 6,
   "metadata": {},
   "outputs": [],
   "source": [
    "####### Database Functions ################\n",
    "# Create collection table\n",
    "def create_collection_table(conn):\n",
    "    cur = conn.cursor()\n",
    "    cur.execute(\"\"\"CREATE TABLE IF NOT EXISTS Collection(\n",
    "                    collection_id text PRIMARY KEY,\n",
    "                    indicator text,\n",
    "                    indicator_value text,\n",
    "                    creation_time text,\n",
    "                    FOREIGN KEY (indicator) REFERENCES Entrie(indicator)\n",
    "                );\"\"\")\n",
    "# Create Entries table\n",
    "def create_entries_table(conn):\n",
    "    cur = conn.cursor()\n",
    "    cur.execute(\"\"\"CREATE TABLE IF NOT EXISTS Entry(\n",
    "                    indicator,\n",
    "                    country text,\n",
    "                    date text,\n",
    "                    value text\n",
    "                );\"\"\")\n",
    "\n",
    "# Check the indicator already exist or not\n",
    "def indicator_already_exist(conn,indicator_data):\n",
    "    cur = conn.cursor()\n",
    "    cur.execute(f\"\"\"SELECT * FROM Collection \n",
    "                    WHERE indicator = \"{indicator_data}\";\n",
    "                \"\"\")\n",
    "    result = cur.fetchall()\n",
    "    if len(result) != 0:\n",
    "        return True\n",
    "    else:\n",
    "        return False\n",
    "\n",
    "# Insert data to entry table\n",
    "def insert_entry_data(conn, indicator_data):\n",
    "    cur = conn.cursor()\n",
    "    entry = []\n",
    "    for i in range(50):\n",
    "        temp = (indicator_data[0], indicator_data[1][i], indicator_data[2][i], indicator_data[3][i])\n",
    "        entry.append(temp)\n",
    "    cur.executemany(\"\"\"INSERT INTO Entry\n",
    "                (indicator, country, date, value)\n",
    "                VALUES(?,?,?,?);\"\"\", entry)\n",
    "    conn.commit()\n",
    "    return cur.lastrowid\n",
    "\n",
    "# Insert data to collection table\n",
    "def insert_collection_data(conn, indicator_data):\n",
    "    cur = conn.cursor()\n",
    "    cur.execute(\"\"\"INSERT INTO Collection\n",
    "                (collection_id, indicator, indicator_value, creation_time)\n",
    "                VALUES(?,?,?,?);\n",
    "            \"\"\", indicator_data)\n",
    "    return cur.lastrowid\n",
    "\n",
    "# Select the data from database\n",
    "def find_indicator(conn, indicator_data):\n",
    "    cur = conn.cursor()\n",
    "    cur.execute(f\"\"\"SELECT * FROM Collection \n",
    "                    WHERE indicator = \"{indicator_data}\";\n",
    "                \"\"\")\n",
    "    result = cur.fetchall()\n",
    "    return  result\n",
    "\n",
    "# Select all data from collection table and order by collection_id\n",
    "def get_all_data(conn):\n",
    "    sql = \"\"\"SELECT * FROM Collection ORDER BY collection_id;\"\"\"\n",
    "    cur = conn.cursor()\n",
    "    cur.execute(sql)\n",
    "    result = cur.fetchall()\n",
    "    return result"
   ]
  },
  {
   "cell_type": "code",
   "execution_count": 5,
   "metadata": {},
   "outputs": [],
   "source": [
    "# random produce collection_id\n",
    "def random_collection_id():\n",
    "    d = time.strftime(\"%Y%m%d%H%M%S\",time.localtime(time.time()))\n",
    "    r = random.sample(d, len(d))\n",
    "    collection_id = ''\n",
    "    for i in r:\n",
    "        collection_id += i\n",
    "    return collection_id\n",
    "\n",
    "# 获取url函数\n",
    "def get_indicator_page(indicator, page):\n",
    "    return ('http://api.worldbank.org/v2/countries/all/indicators/'+indicator+'?date=2013:2018&format=json&page='+page)\n",
    "\n",
    "# url = get_indicator_page('NY.GDP.MKTP.CD', '1')\n",
    "\n",
    "# 获取indicator数据\n",
    "def get_indicator_data(url):\n",
    "    r = requests.get(url)\n",
    "    contents = r.json()\n",
    "    indicator_value = contents[1][1]['indicator']['value']\n",
    "    country = []\n",
    "    date = []\n",
    "    value = []\n",
    "    for i in range(50): \n",
    "        country.append(contents[1][i]['country']['value'])\n",
    "        date.append(contents[1][i]['date'])\n",
    "        value.append(contents[1][i]['value'])\n",
    "    return indicator_value, country, date, value"
   ]
  },
  {
   "cell_type": "code",
   "execution_count": 56,
   "metadata": {},
   "outputs": [],
   "source": [
    "conn = sqlite3.connect('data.db') # 连接数据库\n",
    "create_collection_table(conn)     # 创建表\n",
    "create_entries_table(conn)\n",
    "\n",
    "indicator = 'NY.GDP.MKTP.CD'\n",
    "\n",
    "if indicator_already_exist(conn, indicator):\n",
    "    result = find_indicator(conn, indicator)\n",
    "    print({'location': f\"/collections/{str(result[0][0])}\",\n",
    "        'collection_id': str(result[0][0]),\n",
    "        'creation_time': str(result[0][3]),\n",
    "        'indicator': str(result[0][1])}, 200)  \n",
    "else:\n",
    "    url = get_indicator_page(indicator, '1')  # use the indicator to get url\n",
    "    indicator_value, country, date, value = get_indicator_data(url) # get data from the url\n",
    "    entries = (indicator, country, date, value) # collect data for entry table\n",
    "    insert_entry_data(conn, entries)    # insert data to entry table\n",
    "    creation_time = time.strftime(\"%Y-%m-%dT%H:%M:%SZ\",time.localtime(time.time())) # creation time\n",
    "    collection_id = random_collection_id()  # generate a collection_id\n",
    "    collection_data = (collection_id, indicator, indicator_value, creation_time)    # collect data for collection table\n",
    "    insert_collection_data(conn, collection_data)   # insert data to collection table\n",
    "    result = find_indicator(conn, indicator)\n",
    "    q3 = ({\n",
    "        'location': f\"/collections/{str(result[0][0])}\",\n",
    "        'collection_id': str(result[0][0]),\n",
    "        'creation_time': str(result[0][3]),\n",
    "        'indicator': str(result[0][1])}, 201)  \n",
    "        \n",
    "        \n",
    "        "
   ]
  },
  {
   "cell_type": "code",
   "execution_count": 4,
   "metadata": {},
   "outputs": [],
   "source": [
    "def get_all_data():\n",
    "    conn = sqlite3.connect('Mark.db')\n",
    "    cur = conn.cursor()\n",
    "    sql = \"\"\"SELECT * FROM Collection ORDER BY collection_id;\"\"\"\n",
    "    cur.execute(sql)\n",
    "    result = cur.fetchall()\n",
    "    conn.commit()\n",
    "    conn.close()\n",
    "    return result"
   ]
  },
  {
   "cell_type": "code",
   "execution_count": 67,
   "metadata": {},
   "outputs": [
    {
     "name": "stdout",
     "output_type": "stream",
     "text": [
      "[('01230101919320', 'NY.GDP.MKTP.CD', 'GDP (current US$)', '2019-03-21T19:00:13Z'), ('21010229019326', '1.0.HCount.1.90usd', 'Poverty Headcount ($1.90 a day)', '2019-03-21T19:20:26Z')]\n",
      "01230101919320\n"
     ]
    }
   ],
   "source": [
    "result = get_all_data()\n",
    "print(result)\n",
    "print(result[0][0])"
   ]
  },
  {
   "cell_type": "code",
   "execution_count": 15,
   "metadata": {},
   "outputs": [],
   "source": [
    "collection = '01230101919320'\n",
    "conn = sqlite3.connect('Mark.db')\n",
    "cur = conn.cursor()\n",
    "sql = f\"\"\"SELECT indicator FROM Collection WHERE collection_id = \"{collection}\";\"\"\"\n",
    "cur.execute(sql)\n",
    "result = cur.fetchall()\n",
    "a = str(result[0])"
   ]
  },
  {
   "cell_type": "code",
   "execution_count": 20,
   "metadata": {},
   "outputs": [
    {
     "name": "stdout",
     "output_type": "stream",
     "text": [
      "('NY.GDP.MKTP.CD',)\n",
      "NY.GDP.MKTP.CD\n"
     ]
    }
   ],
   "source": [
    "print(a)\n",
    "print(a[2:-3])"
   ]
  },
  {
   "cell_type": "code",
   "execution_count": null,
   "metadata": {},
   "outputs": [],
   "source": []
  },
  {
   "cell_type": "code",
   "execution_count": 30,
   "metadata": {},
   "outputs": [],
   "source": []
  },
  {
   "cell_type": "code",
   "execution_count": 37,
   "metadata": {},
   "outputs": [
    {
     "name": "stdout",
     "output_type": "stream",
     "text": [
      "NY.GDP.MKTP.CD\n"
     ]
    }
   ],
   "source": []
  },
  {
   "cell_type": "code",
   "execution_count": null,
   "metadata": {},
   "outputs": [],
   "source": []
  },
  {
   "cell_type": "code",
   "execution_count": null,
   "metadata": {},
   "outputs": [],
   "source": []
  },
  {
   "cell_type": "code",
   "execution_count": 3,
   "metadata": {},
   "outputs": [],
   "source": [
    "def get_entry_data(collection_id):\n",
    "    conn = sqlite3.connect(db_file)\n",
    "    cur = conn.cursor()\n",
    "    cur.execute(f\"\"\"SELECT * FROM Entry WHERE id=\"{collection_id}\";\"\"\")\n",
    "    result = cur.fetchall()\n",
    "    conn.commit()\n",
    "    conn.close()\n",
    "    return result\n",
    "\n",
    "def get_collection_data(collection):\n",
    "    conn = sqlite3.connect(db_file)\n",
    "    cur = conn.cursor()\n",
    "    cur.execute(f\"\"\"SELECT * FROM Collection WHERE collection_id=\"{collection}\";\"\"\")\n",
    "    result = cur.fetchall()\n",
    "    conn.commit()\n",
    "    conn.close()\n",
    "    return result\n",
    "def retrieve_entry_data(collection_id, year, country):\n",
    "    conn = sqlite3.connect(db_file)\n",
    "    cur = conn.cursor()\n",
    "    sql = f\"\"\"SELECT * FROM Entry WHERE id=\"{collection_id}\" AND date=\"{year}\" AND country=\"{country}\";\"\"\"\n",
    "    cur.execute(sql)\n",
    "    result = cur.fetchall()\n",
    "    conn.commit()\n",
    "    conn.close()\n",
    "    return result"
   ]
  },
  {
   "cell_type": "code",
   "execution_count": null,
   "metadata": {},
   "outputs": [],
   "source": [
    "collection_id = \n",
    "year = body['year']\n",
    "country = body['country']\n",
    "collection_data = get_collection_data(collection_id)\n",
    "indicator = collection_data[0][1]\n",
    "entry_data = retrieve_entry_data(indicator, year, country)\n",
    "print({\n",
    "    'collection_id': str(collection_id),\n",
    "    'indicator': str(indicator),\n",
    "    'country': str(entry_data[0][1]),\n",
    "    'year': str(entry_data[0][2]),\n",
    "    'value': str(entry_data[0][3])\n",
    "})"
   ]
  },
  {
   "cell_type": "code",
   "execution_count": 13,
   "metadata": {},
   "outputs": [],
   "source": [
    "def get_order_records(collection_id, year, n, order):\n",
    "    conn = sqlite3.connect('Mark.db')\n",
    "    cur = conn.cursor()\n",
    "    cur.execute(f\"\"\"SELECT indicator_value FROM Collection WHERE collection_id=\"{collection_id}\";\"\"\")\n",
    "    indicator_value = cur.fetchall()\n",
    "    if order == 'top':\n",
    "        cur.execute(f\"\"\"SELECT * FROM Entry WHERE id=\"{collection_id}\" AND year=\"{year}\" ORDER BY value DESC Limit {n};\"\"\")\n",
    "    else:\n",
    "        cur.execute(f\"\"\"SELECT * FROM Entry WHERE id=\"{collection_id}\" AND year=\"{year}\" ORDER BY value Limit {n};\"\"\")\n",
    "    entry = cur.fetchall()\n",
    "    conn.commit()\n",
    "    conn.close()\n",
    "    return collection, entry"
   ]
  },
  {
   "cell_type": "code",
   "execution_count": 14,
   "metadata": {},
   "outputs": [
    {
     "name": "stdout",
     "output_type": "stream",
     "text": [
      "{'indicator': 'NY.GDP.MKTP.CD', 'indicator_value': 'GDP (current US$)', 'entries': [{'country': 'Europe & Central Asia', 'date': '2017', 'value': '21444091703392.5'}, {'country': 'Europe & Central Asia', 'date': '2018', 'value': None}, {'country': 'Euro area', 'date': '2013', 'value': '13193290272489.4'}, {'country': 'Euro area', 'date': '2014', 'value': '13478913497853.3'}, {'country': 'Euro area', 'date': '2015', 'value': '11667268254660.3'}]}\n"
     ]
    }
   ],
   "source": [
    "collection_data, entry_data = get_top_n_records('08293121221020', 5, 'bottom')\n",
    "return({\n",
    "    'indicator': str(collection_data[0][1]),\n",
    "    'indicator_value': str(collection_data[0][2]),\n",
    "    'entries': [{\n",
    "        'country': str(entry_data[i][1]),\n",
    "        'date': str(entry_data[i][2]),\n",
    "        'value': entry_data[i][3]\n",
    "    } for i in range(len(entry_data))]\n",
    "})"
   ]
  },
  {
   "cell_type": "code",
   "execution_count": 10,
   "metadata": {},
   "outputs": [
    {
     "name": "stdout",
     "output_type": "stream",
     "text": [
      "100\n",
      "('97110314202021', 'Arab World', '2018', 0.0)\n",
      "('97110314202021', 'Europe & Central Asia', '2016', 20283925294721.9)\n"
     ]
    }
   ],
   "source": [
    "db_file = 'data.db'\n",
    "collection_id = '97110314202021'\n",
    "collection_data = get_collection_data(collection_id)\n",
    "entry_data = get_entry_data(collection_id)\n",
    "'''\n",
    "print({\n",
    "        'collection_id': collection_id,\n",
    "        'indicator': str(collection_data[0][1]),\n",
    "        'indicator_value': str(collection_data[0][2]),\n",
    "        'creation_time': str(collection_data[0][3]),\n",
    "        'entries': [{\n",
    "            'country': str(entry_data[i][1]),\n",
    "            'date': str(entry_data[i][2]),\n",
    "            'value': entry_data[i][3]\n",
    "        } for i in range(len(entry_data))]})\n",
    "'''\n",
    "print(len(entry_data))\n",
    "print(entry_data[0])\n",
    "print(entry_data[50])"
   ]
  },
  {
   "cell_type": "code",
   "execution_count": 19,
   "metadata": {},
   "outputs": [
    {
     "name": "stdout",
     "output_type": "stream",
     "text": [
      "{'collection_id': '19000440822303', 'indicator': 'AG.PRD.CROP.XD', 'country': 'Arab World', 'year': '2014', 'value': 113.383378082395}\n",
      "4\n",
      "[('19000440822303', 'Arab World', '2014', 113.383378082395)]\n"
     ]
    }
   ],
   "source": [
    "db_file = 'data.db'\n",
    "collection_id = '19000440822303'\n",
    "year = '2014'\n",
    "country = 'Arab World'\n",
    "collection_data = get_collection_data(collection_id)\n",
    "entry_data = retrieve_entry_data(collection_id, year, country)\n",
    "print({\n",
    "    'collection_id': str(collection_id),\n",
    "    'indicator': str(collection_data[0][1]),\n",
    "    'country': str(entry_data[0][1]), \n",
    "    'year': str(entry_data[0][2]),\n",
    "    'value': entry_data[0][3]\n",
    "})\n",
    "print(len(entry_data[0]))\n",
    "print(entry_data)"
   ]
  },
  {
   "cell_type": "code",
   "execution_count": 18,
   "metadata": {},
   "outputs": [
    {
     "name": "stdout",
     "output_type": "stream",
     "text": [
      "[('92242300703103', 'Arab World', '2018', 0.0), ('92242300703103', 'Arab World', '2017', 0.0), ('92242300703103', 'Arab World', '2016', 0.0), ('92242300703103', 'Arab World', '2015', 0.0), ('92242300703103', 'Arab World', '2014', 113.383378082395), ('92242300703103', 'Arab World', '2013', 117.826830053319), ('92242300703103', 'Caribbean small states', '2018', 0.0), ('92242300703103', 'Caribbean small states', '2017', 0.0), ('92242300703103', 'Caribbean small states', '2016', 0.0), ('92242300703103', 'Caribbean small states', '2015', 0.0), ('92242300703103', 'Caribbean small states', '2014', 108.022610986456), ('92242300703103', 'Caribbean small states', '2013', 108.671928210045), ('92242300703103', 'Central Europe and the Baltics', '2018', 0.0), ('92242300703103', 'Central Europe and the Baltics', '2017', 0.0), ('92242300703103', 'Central Europe and the Baltics', '2016', 0.0), ('92242300703103', 'Central Europe and the Baltics', '2015', 0.0), ('92242300703103', 'Central Europe and the Baltics', '2014', 115.819083081526), ('92242300703103', 'Central Europe and the Baltics', '2013', 106.521373244035), ('92242300703103', 'Early-demographic dividend', '2018', 0.0), ('92242300703103', 'Early-demographic dividend', '2017', 0.0), ('92242300703103', 'Early-demographic dividend', '2016', 0.0), ('92242300703103', 'Early-demographic dividend', '2015', 0.0), ('92242300703103', 'Early-demographic dividend', '2014', 133.368885195996), ('92242300703103', 'Early-demographic dividend', '2013', 131.089062845281), ('92242300703103', 'East Asia & Pacific', '2018', 0.0), ('92242300703103', 'East Asia & Pacific', '2017', 0.0), ('92242300703103', 'East Asia & Pacific', '2016', 0.0), ('92242300703103', 'East Asia & Pacific', '2015', 0.0), ('92242300703103', 'East Asia & Pacific', '2014', 133.071043050565), ('92242300703103', 'East Asia & Pacific', '2013', 131.309979453007), ('92242300703103', 'East Asia & Pacific (excluding high income)', '2018', 0.0), ('92242300703103', 'East Asia & Pacific (excluding high income)', '2017', 0.0), ('92242300703103', 'East Asia & Pacific (excluding high income)', '2016', 0.0), ('92242300703103', 'East Asia & Pacific (excluding high income)', '2015', 0.0), ('92242300703103', 'East Asia & Pacific (excluding high income)', '2014', 134.889295880122), ('92242300703103', 'East Asia & Pacific (excluding high income)', '2013', 133.037632206062), ('92242300703103', 'East Asia & Pacific (IDA & IBRD countries)', '2018', 0.0), ('92242300703103', 'East Asia & Pacific (IDA & IBRD countries)', '2017', 0.0), ('92242300703103', 'East Asia & Pacific (IDA & IBRD countries)', '2016', 0.0), ('92242300703103', 'East Asia & Pacific (IDA & IBRD countries)', '2015', 0.0), ('92242300703103', 'East Asia & Pacific (IDA & IBRD countries)', '2014', 135.134407575409), ('92242300703103', 'East Asia & Pacific (IDA & IBRD countries)', '2013', 133.256486878489), ('92242300703103', 'Euro area', '2018', 0.0), ('92242300703103', 'Euro area', '2017', 0.0), ('92242300703103', 'Euro area', '2016', 0.0), ('92242300703103', 'Euro area', '2015', 0.0), ('92242300703103', 'Euro area', '2014', 99.7623395494278), ('92242300703103', 'Euro area', '2013', 99.342590685174), ('92242300703103', 'Europe & Central Asia', '2018', 0.0), ('92242300703103', 'Europe & Central Asia', '2017', 0.0)]\n",
      "[('92242300703103', 'Arab World', '2018', 0.0), ('92242300703103', 'Arab World', '2017', 0.0), ('92242300703103', 'Arab World', '2016', 0.0), ('92242300703103', 'Arab World', '2015', 0.0), ('92242300703103', 'Arab World', '2014', 113.383378082395), ('92242300703103', 'Arab World', '2013', 117.826830053319), ('92242300703103', 'Caribbean small states', '2018', 0.0), ('92242300703103', 'Caribbean small states', '2017', 0.0), ('92242300703103', 'Caribbean small states', '2016', 0.0), ('92242300703103', 'Caribbean small states', '2015', 0.0), ('92242300703103', 'Caribbean small states', '2014', 108.022610986456), ('92242300703103', 'Caribbean small states', '2013', 108.671928210045), ('92242300703103', 'Central Europe and the Baltics', '2018', 0.0), ('92242300703103', 'Central Europe and the Baltics', '2017', 0.0), ('92242300703103', 'Central Europe and the Baltics', '2016', 0.0), ('92242300703103', 'Central Europe and the Baltics', '2015', 0.0), ('92242300703103', 'Central Europe and the Baltics', '2014', 115.819083081526), ('92242300703103', 'Central Europe and the Baltics', '2013', 106.521373244035), ('92242300703103', 'Early-demographic dividend', '2018', 0.0), ('92242300703103', 'Early-demographic dividend', '2017', 0.0), ('92242300703103', 'Early-demographic dividend', '2016', 0.0), ('92242300703103', 'Early-demographic dividend', '2015', 0.0), ('92242300703103', 'Early-demographic dividend', '2014', 133.368885195996), ('92242300703103', 'Early-demographic dividend', '2013', 131.089062845281), ('92242300703103', 'East Asia & Pacific', '2018', 0.0), ('92242300703103', 'East Asia & Pacific', '2017', 0.0), ('92242300703103', 'East Asia & Pacific', '2016', 0.0), ('92242300703103', 'East Asia & Pacific', '2015', 0.0), ('92242300703103', 'East Asia & Pacific', '2014', 133.071043050565), ('92242300703103', 'East Asia & Pacific', '2013', 131.309979453007), ('92242300703103', 'East Asia & Pacific (excluding high income)', '2018', 0.0), ('92242300703103', 'East Asia & Pacific (excluding high income)', '2017', 0.0), ('92242300703103', 'East Asia & Pacific (excluding high income)', '2016', 0.0), ('92242300703103', 'East Asia & Pacific (excluding high income)', '2015', 0.0), ('92242300703103', 'East Asia & Pacific (excluding high income)', '2014', 134.889295880122), ('92242300703103', 'East Asia & Pacific (excluding high income)', '2013', 133.037632206062), ('92242300703103', 'East Asia & Pacific (IDA & IBRD countries)', '2018', 0.0), ('92242300703103', 'East Asia & Pacific (IDA & IBRD countries)', '2017', 0.0), ('92242300703103', 'East Asia & Pacific (IDA & IBRD countries)', '2016', 0.0), ('92242300703103', 'East Asia & Pacific (IDA & IBRD countries)', '2015', 0.0), ('92242300703103', 'East Asia & Pacific (IDA & IBRD countries)', '2014', 135.134407575409), ('92242300703103', 'East Asia & Pacific (IDA & IBRD countries)', '2013', 133.256486878489), ('92242300703103', 'Euro area', '2018', 0.0), ('92242300703103', 'Euro area', '2017', 0.0), ('92242300703103', 'Euro area', '2016', 0.0), ('92242300703103', 'Euro area', '2015', 0.0), ('92242300703103', 'Euro area', '2014', 99.7623395494278), ('92242300703103', 'Euro area', '2013', 99.342590685174), ('92242300703103', 'Europe & Central Asia', '2018', 0.0), ('92242300703103', 'Europe & Central Asia', '2017', 0.0)]\n"
     ]
    },
    {
     "data": {
      "text/plain": [
       "\"\\nprint({\\n        'collection_id': collection_id,\\n        'indicator': str(collection_data[0][1]),\\n        'indicator_value': str(collection_data[0][2]),\\n        'creation_time': str(collection_data[0][3]),\\n        'entries': [{\\n            'country': str(entry_data[i][1]),\\n            'date': str(entry_data[i][2]),\\n            'value': entry_data[i][3]\\n        } for i in range(len(entry_data))]})\\nprint(len(entry_data))\\n\""
      ]
     },
     "execution_count": 18,
     "metadata": {},
     "output_type": "execute_result"
    }
   ],
   "source": [
    "collection_data = get_collection_data(collection_id)\n",
    "entry_data = get_entry_data(collection_id)\n",
    "print(entry_data[:50])\n",
    "print(entry_data[50:])\n",
    "'''\n",
    "print({\n",
    "        'collection_id': collection_id,\n",
    "        'indicator': str(collection_data[0][1]),\n",
    "        'indicator_value': str(collection_data[0][2]),\n",
    "        'creation_time': str(collection_data[0][3]),\n",
    "        'entries': [{\n",
    "            'country': str(entry_data[i][1]),\n",
    "            'date': str(entry_data[i][2]),\n",
    "            'value': entry_data[i][3]\n",
    "        } for i in range(len(entry_data))]})\n",
    "print(len(entry_data))\n",
    "'''"
   ]
  },
  {
   "cell_type": "code",
   "execution_count": 21,
   "metadata": {},
   "outputs": [
    {
     "name": "stdout",
     "output_type": "stream",
     "text": [
      "eee\n"
     ]
    }
   ],
   "source": [
    "a = 1464263712669.79\n",
    "b = 2908394129857.66\n",
    "if a > b:\n",
    "    print('dd')\n",
    "if a < b:\n",
    "    print('eee')"
   ]
  },
  {
   "cell_type": "code",
   "execution_count": null,
   "metadata": {},
   "outputs": [],
   "source": []
  }
 ],
 "metadata": {
  "kernelspec": {
   "display_name": "Python 3",
   "language": "python",
   "name": "python3"
  },
  "language_info": {
   "codemirror_mode": {
    "name": "ipython",
    "version": 3
   },
   "file_extension": ".py",
   "mimetype": "text/x-python",
   "name": "python",
   "nbconvert_exporter": "python",
   "pygments_lexer": "ipython3",
   "version": "3.6.4"
  }
 },
 "nbformat": 4,
 "nbformat_minor": 2
}
